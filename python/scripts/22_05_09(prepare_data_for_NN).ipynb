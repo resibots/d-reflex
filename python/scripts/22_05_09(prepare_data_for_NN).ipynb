{
 "cells": [
  {
   "cell_type": "markdown",
   "id": "807699c4",
   "metadata": {},
   "source": [
    "# Config"
   ]
  },
  {
   "cell_type": "code",
   "execution_count": 1,
   "id": "2fe18fd0",
   "metadata": {},
   "outputs": [],
   "source": [
    "import numpy as np \n",
    "import pickle \n",
    "import os \n",
    "import torch\n",
    "import sys\n",
    "from tqdm import tqdm\n",
    "sys.path.append(\"/home/haretis/Experience/DeepLearning/TCN/\")\n",
    "from torch import nn\n",
    "from torch.autograd import Variable\n",
    "from time import sleep, time \n",
    "import matplotlib.pyplot as plt \n",
    "from sklearn.preprocessing import StandardScaler   \n",
    "from copy import deepcopy\n",
    "from numpy.random import default_rng \n",
    "import argparse\n",
    "from datetime import datetime\n",
    "import scipy.signal\n",
    "from sklearn.decomposition import PCA \n",
    "import multiprocessing as mp\n",
    "rng = default_rng()"
   ]
  },
  {
   "cell_type": "markdown",
   "id": "54258253",
   "metadata": {},
   "source": [
    "## Gather data"
   ]
  },
  {
   "cell_type": "code",
   "execution_count": 2,
   "id": "8f5788e7",
   "metadata": {},
   "outputs": [],
   "source": [
    "def gather_data(folder_path, files):\n",
    "    data = {}\n",
    "    for file in files:\n",
    "        file_name = file.split(\".\")[0]\n",
    "        if \".pk\" in file:\n",
    "            with open(folder_path + file, 'rb') as f:\n",
    "                data[file_name] = pickle.load(f)\n",
    "        else:\n",
    "            try:\n",
    "                data[file_name] = np.loadtxt(folder_path + file)\n",
    "            except OSError:\n",
    "                pass \n",
    "            except ValueError:\n",
    "                data[file_name] = None \n",
    "    return data"
   ]
  },
  {
   "cell_type": "code",
   "execution_count": 3,
   "id": "113cd87a",
   "metadata": {},
   "outputs": [],
   "source": [
    "def read_stop_reason(data):\n",
    "    reasons = [\"Time Failure\", \"Success\", \"Falling\"]\n",
    "    if \"end\" in data:\n",
    "        try:\n",
    "            end = data['end']\n",
    "        except KeyError:\n",
    "            return \"Error\", 0\n",
    "        if end is None:\n",
    "            return \"Error\", 0\n",
    "        if len(end) == 0:\n",
    "            raise NameError(\"Error empty file\")\n",
    "        i = int(end[1])\n",
    "        if i>= len(reasons):\n",
    "            raise NameError(\"Error not registered reason\")\n",
    "        else:\n",
    "            return reasons[i], end[0]\n",
    "    else:\n",
    "        return \"Error\", 0\n",
    "    \n",
    "def WrongConditionERROR(Exception):\n",
    "    pass"
   ]
  },
  {
   "cell_type": "markdown",
   "id": "fcb2b1dd",
   "metadata": {},
   "source": [
    "## Loader //"
   ]
  },
  {
   "cell_type": "code",
   "execution_count": 4,
   "id": "9b79a4fe",
   "metadata": {},
   "outputs": [],
   "source": [
    "def loader(path, name, conditions, files=['end']):\n",
    "    stop_reasons = {}\n",
    "    xp = path+\"/\"+name\n",
    "    res =  {}\n",
    "    if \"config\" in files:\n",
    "        with open(xp+\"/\"+conditions[0]+\"/config.pk\", \"rb\") as f:\n",
    "            config = pickle.load(f)\n",
    "        res[\"config\"] = config\n",
    "        files.remove(\"config\")\n",
    "    data = {}\n",
    "    for condition in conditions:\n",
    "        data[condition] = gather_data(xp+\"/\"+condition+\"/\", files)\n",
    "        if \"end.dat\" in files:\n",
    "            stop_reasons[condition] = read_stop_reason(data[condition])\n",
    "    res[\"data\"] = data\n",
    "    if \"end.dat\" in files:\n",
    "        res[\"stop_reason\"] = stop_reasons\n",
    "    return name, res\n",
    "\n",
    "def load_worker(job_queue, res_queue):\n",
    "    while True:\n",
    "        job = job_queue.get()\n",
    "        if job == \"Done\":\n",
    "            break\n",
    "        else:\n",
    "            f, arg = job\n",
    "            res_queue.put(f(**arg))\n",
    "            \n",
    "def load_master(dicts, jobs, n_jobs, n_processes=50, verbose=1):\n",
    "    job_queue = mp.Queue()\n",
    "    res_queue = mp.Queue()\n",
    "    n_processes = min(n_processes, n_jobs)\n",
    "    pool = mp.Pool(n_processes, load_worker, (job_queue, res_queue))\n",
    "\n",
    "    for job in jobs:\n",
    "        job_queue.put(job)\n",
    "\n",
    "    for _ in range(n_processes):\n",
    "        job_queue.put(\"Done\")\n",
    "    \n",
    "    todos = []\n",
    "\n",
    "    for _ in (tqdm(range(n_jobs)) if verbose else range(n_jobs)):\n",
    "        todos.append(res_queue.get())\n",
    "    \n",
    "    for (name, dic) in todos:\n",
    "        dicts[name] = dic \n",
    "    pool.close()\n",
    "    pool.join()"
   ]
  },
  {
   "cell_type": "markdown",
   "id": "7c23d425",
   "metadata": {},
   "source": [
    "# Estimate best contact from training data"
   ]
  },
  {
   "cell_type": "code",
   "execution_count": 5,
   "id": "2fedb4b6",
   "metadata": {},
   "outputs": [],
   "source": [
    "# contact se3 task (not a contraint)\n",
    "path1 = \"/home/tim/Experiences/Deeplearning/notebooks/data/2022/05/07/14:51:16_9111/data.pk\""
   ]
  },
  {
   "cell_type": "code",
   "execution_count": 6,
   "id": "cfde3f84",
   "metadata": {},
   "outputs": [],
   "source": [
    "with open(path1, \"rb\") as f:\n",
    "    data = pickle.load(f)"
   ]
  },
  {
   "cell_type": "markdown",
   "id": "d686380f",
   "metadata": {},
   "source": [
    "# save to training/val/test"
   ]
  },
  {
   "cell_type": "code",
   "execution_count": 7,
   "id": "d69d44b9",
   "metadata": {},
   "outputs": [],
   "source": [
    "def read_truth(T):\n",
    "    copy = np.zeros((21,21))\n",
    "    for i in range(len(T)):\n",
    "        for j in range(len(T[i])):\n",
    "            copy[i, j] = T[i][j] in ([\"Unfallen\"] + [f\"Recovered{i}\" for i in range(1)])\n",
    "    return copy"
   ]
  },
  {
   "cell_type": "code",
   "execution_count": 8,
   "id": "ecebd850",
   "metadata": {},
   "outputs": [
    {
     "name": "stdout",
     "output_type": "stream",
     "text": [
      "500\n"
     ]
    }
   ],
   "source": [
    "dicts = {}\n",
    "X = np.linspace(-0.75, 0.75, 21)\n",
    "Z = np.linspace(0.50, 1.75, 21)\n",
    "for (key, dic) in data.items():\n",
    "    if dic[\"q\"] is not None:\n",
    "        dic[\"X\"] = X\n",
    "        dic[\"Z\"] = Z\n",
    "        J = np.zeros(6)\n",
    "        for c in dic[\"condition\"]:\n",
    "            J[int(c[-1])-1] = True \n",
    "        dic[\"J\"] = J\n",
    "        dic[\"map\"] = read_truth(dic[\"truth\"])\n",
    "        dicts[key] = dic\n",
    "print(len(dicts))"
   ]
  },
  {
   "cell_type": "markdown",
   "id": "e199f6d0",
   "metadata": {},
   "source": [
    "## Nothing"
   ]
  },
  {
   "cell_type": "code",
   "execution_count": 9,
   "id": "3dddd3a9",
   "metadata": {},
   "outputs": [
    {
     "name": "stdout",
     "output_type": "stream",
     "text": [
      "65\n"
     ]
    }
   ],
   "source": [
    "nothing = 0\n",
    "for (key, dic) in data.items():\n",
    "    if dic[\"no_reflex_end\"] in ([\"Unfallen\"] + [f\"Recovered{i}\" for i in range(1)]):\n",
    "        nothing += 1\n",
    "print(nothing)"
   ]
  },
  {
   "cell_type": "markdown",
   "id": "eb9a8c50",
   "metadata": {},
   "source": [
    "## D-Reflex data Collection"
   ]
  },
  {
   "cell_type": "code",
   "execution_count": 10,
   "id": "20003355",
   "metadata": {},
   "outputs": [],
   "source": [
    "suc, robust = 0, 0\n",
    "suc_area, robust_area = [], []\n",
    "for (key, dic) in data.items():\n",
    "    suc += np.sum(dic[\"map\"])>1\n",
    "    suc_area.append(np.sum(dic[\"map\"]))\n",
    "    T = dic[\"map\"]\n",
    "    min_pooled = np.zeros(T.shape)\n",
    "    for z in range(len(T)):\n",
    "        for x in range(len(T[z])):\n",
    "            min_pooled[z,x] = np.min(T[max(0, z-1):z+2, max(0, x-1):x+2])\n",
    "    robust += np.sum(min_pooled) > 0\n",
    "    robust_area.append(np.sum(min_pooled))"
   ]
  },
  {
   "cell_type": "code",
   "execution_count": 11,
   "id": "79444848",
   "metadata": {},
   "outputs": [
    {
     "data": {
      "text/plain": [
       "(0.114, 0.0, 1.016, 0.0)"
      ]
     },
     "execution_count": 11,
     "metadata": {},
     "output_type": "execute_result"
    }
   ],
   "source": [
    "suc/len(data), robust/len(data), np.mean(suc_area), np.mean(robust_area)"
   ]
  },
  {
   "cell_type": "markdown",
   "id": "59664e6e",
   "metadata": {},
   "source": [
    "## categorie"
   ]
  },
  {
   "cell_type": "code",
   "execution_count": 12,
   "id": "1a0894b5",
   "metadata": {},
   "outputs": [
    {
     "data": {
      "text/plain": [
       "{'Recovered3': 0.8, 'Recovered1': 0.16, 'Recovered0': 0.04}"
      ]
     },
     "execution_count": 12,
     "metadata": {},
     "output_type": "execute_result"
    }
   ],
   "source": [
    "nothing = {}\n",
    "for (key, dic) in data.items():\n",
    "    if dic[\"no_reflex_end\"] in nothing:\n",
    "        nothing[dic[\"no_reflex_end\"]] += 1\n",
    "    else:\n",
    "        nothing[dic[\"no_reflex_end\"]] = 1\n",
    "total = np.sum([val for (key,val) in nothing.items() if \"Recovered\" in key])\n",
    "{key: val/total for (key,val) in nothing.items() if \"Recovered\" in key}"
   ]
  },
  {
   "cell_type": "code",
   "execution_count": 13,
   "id": "d6e49f39",
   "metadata": {},
   "outputs": [
    {
     "data": {
      "text/plain": [
       "{'Recovered0': 0.6024590163934426,\n",
       " 'Recovered3': 0.22540983606557377,\n",
       " 'Recovered5': 0.1721311475409836}"
      ]
     },
     "execution_count": 13,
     "metadata": {},
     "output_type": "execute_result"
    }
   ],
   "source": [
    "D_Reflex = {}\n",
    "for (key, dic) in data.items():\n",
    "    for Z in dic[\"truth\"]:\n",
    "        for x in Z:\n",
    "            if x is None: \n",
    "                x = \"Error\"\n",
    "            if x in D_Reflex:\n",
    "                D_Reflex[x] += 1\n",
    "            else:\n",
    "                D_Reflex[x] = 1\n",
    "total = np.sum([val for (key,val) in D_Reflex.items() if \"Recovered\" in key])\n",
    "{key: val/total for (key,val) in D_Reflex.items() if \"Recovered\" in key}"
   ]
  },
  {
   "cell_type": "markdown",
   "id": "6047458f",
   "metadata": {},
   "source": [
    "## Saving"
   ]
  },
  {
   "cell_type": "code",
   "execution_count": 30,
   "id": "baa4369e",
   "metadata": {},
   "outputs": [],
   "source": [
    "datasets_path = \"/home/haretis/Experiences/Deeplearning/notebooks/data/wall_reflex/datasets/\"\n",
    "name = \"ALP_v4_2\"  # Passive Amputation Locked \n",
    "with open(datasets_path + f\"{name}_dataset.pk\", 'wb') as f:\n",
    "    pickle.dump(dicts, f)"
   ]
  },
  {
   "cell_type": "markdown",
   "id": "42d5880f",
   "metadata": {},
   "source": [
    "# Merge additional data"
   ]
  },
  {
   "cell_type": "code",
   "execution_count": 31,
   "id": "76ffe828",
   "metadata": {},
   "outputs": [],
   "source": [
    "with open(datasets_path + \"ALP_v4_1_dataset.pk\", 'rb') as f:\n",
    "    data1 = pickle.load(f)\n",
    "with open(datasets_path + \"ALP_v4_2_dataset.pk\", 'rb') as f:\n",
    "    data2 = pickle.load(f)"
   ]
  },
  {
   "cell_type": "code",
   "execution_count": 32,
   "id": "30fe918c",
   "metadata": {},
   "outputs": [
    {
     "data": {
      "text/plain": [
       "(1000, 1000)"
      ]
     },
     "execution_count": 32,
     "metadata": {},
     "output_type": "execute_result"
    }
   ],
   "source": [
    "len(data1), len(data2)"
   ]
  },
  {
   "cell_type": "code",
   "execution_count": 33,
   "id": "b649f55e",
   "metadata": {},
   "outputs": [
    {
     "name": "stdout",
     "output_type": "stream",
     "text": [
      "2000\n"
     ]
    }
   ],
   "source": [
    "merged_data = {**data1, **data2}\n",
    "print(len(merged_data))"
   ]
  },
  {
   "cell_type": "code",
   "execution_count": 34,
   "id": "d43809b8",
   "metadata": {},
   "outputs": [],
   "source": [
    "with open(datasets_path + \"ALP_v4_dataset.pk\", 'wb') as f:\n",
    "    pickle.dump(merged_data, f)"
   ]
  },
  {
   "cell_type": "markdown",
   "id": "7229c53f",
   "metadata": {},
   "source": [
    "# Plot"
   ]
  },
  {
   "cell_type": "code",
   "execution_count": 38,
   "id": "13deffb9",
   "metadata": {},
   "outputs": [],
   "source": [
    "with open(path, \"rb\") as f:\n",
    "    data = pickle.load(f)"
   ]
  },
  {
   "cell_type": "code",
   "execution_count": 50,
   "id": "6eef0b00",
   "metadata": {},
   "outputs": [
    {
     "data": {
      "text/plain": [
       "<matplotlib.colorbar.Colorbar at 0x7f0f87cfdbb0>"
      ]
     },
     "execution_count": 50,
     "metadata": {},
     "output_type": "execute_result"
    },
    {
     "data": {
      "image/png": "[encoded data removed]",
      "text/plain": [
       "<Figure size 432x288 with 2 Axes>"
      ]
     },
     "metadata": {
      "needs_background": "light"
     },
     "output_type": "display_data"
    }
   ],
   "source": [
    "colormap = {\"Error\": 0., \"Falling\": 0.25, \"Running\":0., \"Fallen_floor\":0.25, \"Fallen_wall\":0.25, \"Unfallen\": 1., \"Recovered\":0.72, \"Timeout\": 0.}\n",
    "\n",
    "dic = list(data.values())[8]\n",
    "\n",
    "cmap = np.zeros((21, 21))\n",
    "for i in range(21):\n",
    "    for j in range(21):\n",
    "        cmap[i,j] = colormap[dic[\"truth\"][i][j]]\n",
    "lines = plt.pcolor(cmap, cmap=\"viridis\", edgecolors='k', vmin=0, vmax=1, linewidths=1)\n",
    "plt.colorbar(lines)"
   ]
  },
  {
   "cell_type": "markdown",
   "id": "6ee999f0",
   "metadata": {},
   "source": [
    "# Avoidable / Robustly avoidable"
   ]
  },
  {
   "cell_type": "code",
   "execution_count": 67,
   "id": "8500c9ed",
   "metadata": {},
   "outputs": [],
   "source": [
    "with open(datasets_path + \"ALP_v2_dataset.pk\", 'rb') as f:\n",
    "    data2 = pickle.load(f)"
   ]
  },
  {
   "cell_type": "code",
   "execution_count": 68,
   "id": "a69c612e",
   "metadata": {},
   "outputs": [],
   "source": [
    "with open(datasets_path + \"ALP_v1_dataset.pk\", 'rb') as f:\n",
    "    data1 = pickle.load(f)"
   ]
  },
  {
   "cell_type": "code",
   "execution_count": 73,
   "id": "f65a4e49",
   "metadata": {},
   "outputs": [],
   "source": [
    "def compute_avoidability_rate(data):\n",
    "    robustly_avoidable, avoidable = 0, 0\n",
    "    for dic in data.values():\n",
    "        T = dic[\"map\"] if \"map\" in dic else dic[\"truth\"]\n",
    "        min_pooled = np.zeros(T.shape)\n",
    "        for z in range(len(T)):\n",
    "            for x in range(len(T[z])):\n",
    "                min_pooled[z,x] = np.min(T[max(0, z-1):z+2, max(0, x-1):x+2])\n",
    "        if np.sum(min_pooled) > 0:\n",
    "            robustly_avoidable += 1\n",
    "        if np.sum(T) > 0:\n",
    "            avoidable += 1 \n",
    "    return robustly_avoidable, avoidable"
   ]
  },
  {
   "cell_type": "code",
   "execution_count": 76,
   "id": "6e3f444c",
   "metadata": {},
   "outputs": [],
   "source": [
    "ra2, a2 = compute_avoidability_rate(data2)"
   ]
  },
  {
   "cell_type": "code",
   "execution_count": 77,
   "id": "f6893d8e",
   "metadata": {},
   "outputs": [],
   "source": [
    "ra1, a1 = compute_avoidability_rate(data1)"
   ]
  },
  {
   "cell_type": "code",
   "execution_count": 86,
   "id": "65553675",
   "metadata": {},
   "outputs": [
    {
     "name": "stdout",
     "output_type": "stream",
     "text": [
      "63.7% avoidable of which 52.4% are robustly avoidable (= 33.4% robustly avoidable in total)\n",
      "70.8% avoidable of which 57.4% are robustly avoidable (= 40.6% robustly avoidable in total)\n"
     ]
    }
   ],
   "source": [
    "for a, ra in [(a1, ra1), (a2, ra2)]:\n",
    "    print(f\"{a/2000*100:2.1f}% avoidable of which {ra/a*100:2.1f}% are robustly avoidable (= {ra/2000*100:2.1f}% robustly avoidable in total)\") "
   ]
  }
 ],
 "metadata": {
  "kernelspec": {
   "display_name": "Python 3 (ipykernel)",
   "language": "python",
   "name": "python3"
  },
  "language_info": {
   "codemirror_mode": {
    "name": "ipython",
    "version": 3
   },
   "file_extension": ".py",
   "mimetype": "text/x-python",
   "name": "python",
   "nbconvert_exporter": "python",
   "pygments_lexer": "ipython3",
   "version": "3.8.5"
  },
  "toc-autonumbering": true
 },
 "nbformat": 4,
 "nbformat_minor": 5
}
